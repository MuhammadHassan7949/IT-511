{
 "cells": [
  {
   "cell_type": "code",
   "execution_count": 1,
   "id": "e8eb776c",
   "metadata": {},
   "outputs": [
    {
     "name": "stdout",
     "output_type": "stream",
     "text": [
      "Collecting ipympl\n",
      "  Downloading ipympl-0.9.3-py2.py3-none-any.whl (511 kB)\n",
      "     ---------------------------------------- 0.0/511.6 kB ? eta -:--:--\n",
      "     -- ------------------------------------ 30.7/511.6 kB 1.3 MB/s eta 0:00:01\n",
      "     -- ---------------------------------- 41.0/511.6 kB 393.8 kB/s eta 0:00:02\n",
      "     ------ ------------------------------ 92.2/511.6 kB 655.4 kB/s eta 0:00:01\n",
      "     ---------- ------------------------- 143.4/511.6 kB 711.9 kB/s eta 0:00:01\n",
      "     --------------- -------------------- 225.3/511.6 kB 919.0 kB/s eta 0:00:01\n",
      "     ----------------------- -------------- 317.4/511.6 kB 1.2 MB/s eta 0:00:01\n",
      "     ----------------------------- -------- 399.4/511.6 kB 1.2 MB/s eta 0:00:01\n",
      "     --------------------------------- ---- 450.6/511.6 kB 1.2 MB/s eta 0:00:01\n",
      "     --------------------------------- ---- 450.6/511.6 kB 1.2 MB/s eta 0:00:01\n",
      "     ---------------------------------- --- 471.0/511.6 kB 1.0 MB/s eta 0:00:01\n",
      "     -----------------------------------  501.8/511.6 kB 952.6 kB/s eta 0:00:01\n",
      "     ------------------------------------ 511.6/511.6 kB 916.5 kB/s eta 0:00:00\n",
      "Requirement already satisfied: ipython<9 in g:\\anaconda\\lib\\site-packages (from ipympl) (8.12.0)\n",
      "Requirement already satisfied: numpy in g:\\anaconda\\lib\\site-packages (from ipympl) (1.24.3)\n",
      "Requirement already satisfied: ipython-genutils in g:\\anaconda\\lib\\site-packages (from ipympl) (0.2.0)\n",
      "Requirement already satisfied: pillow in g:\\anaconda\\lib\\site-packages (from ipympl) (9.4.0)\n",
      "Requirement already satisfied: traitlets<6 in g:\\anaconda\\lib\\site-packages (from ipympl) (5.7.1)\n",
      "Requirement already satisfied: ipywidgets<9,>=7.6.0 in g:\\anaconda\\lib\\site-packages (from ipympl) (8.0.4)\n",
      "Requirement already satisfied: matplotlib<4,>=3.4.0 in g:\\anaconda\\lib\\site-packages (from ipympl) (3.7.1)\n",
      "Requirement already satisfied: backcall in g:\\anaconda\\lib\\site-packages (from ipython<9->ipympl) (0.2.0)\n",
      "Requirement already satisfied: decorator in g:\\anaconda\\lib\\site-packages (from ipython<9->ipympl) (5.1.1)\n",
      "Requirement already satisfied: jedi>=0.16 in g:\\anaconda\\lib\\site-packages (from ipython<9->ipympl) (0.18.1)\n",
      "Requirement already satisfied: matplotlib-inline in g:\\anaconda\\lib\\site-packages (from ipython<9->ipympl) (0.1.6)\n",
      "Requirement already satisfied: pickleshare in g:\\anaconda\\lib\\site-packages (from ipython<9->ipympl) (0.7.5)\n",
      "Requirement already satisfied: prompt-toolkit!=3.0.37,<3.1.0,>=3.0.30 in g:\\anaconda\\lib\\site-packages (from ipython<9->ipympl) (3.0.36)\n",
      "Requirement already satisfied: pygments>=2.4.0 in g:\\anaconda\\lib\\site-packages (from ipython<9->ipympl) (2.15.1)\n",
      "Requirement already satisfied: stack-data in g:\\anaconda\\lib\\site-packages (from ipython<9->ipympl) (0.2.0)\n",
      "Requirement already satisfied: colorama in g:\\anaconda\\lib\\site-packages (from ipython<9->ipympl) (0.4.6)\n",
      "Requirement already satisfied: ipykernel>=4.5.1 in g:\\anaconda\\lib\\site-packages (from ipywidgets<9,>=7.6.0->ipympl) (6.19.2)\n",
      "Requirement already satisfied: widgetsnbextension~=4.0 in g:\\anaconda\\lib\\site-packages (from ipywidgets<9,>=7.6.0->ipympl) (4.0.5)\n",
      "Requirement already satisfied: jupyterlab-widgets~=3.0 in g:\\anaconda\\lib\\site-packages (from ipywidgets<9,>=7.6.0->ipympl) (3.0.5)\n",
      "Requirement already satisfied: contourpy>=1.0.1 in g:\\anaconda\\lib\\site-packages (from matplotlib<4,>=3.4.0->ipympl) (1.0.5)\n",
      "Requirement already satisfied: cycler>=0.10 in g:\\anaconda\\lib\\site-packages (from matplotlib<4,>=3.4.0->ipympl) (0.11.0)\n",
      "Requirement already satisfied: fonttools>=4.22.0 in g:\\anaconda\\lib\\site-packages (from matplotlib<4,>=3.4.0->ipympl) (4.25.0)\n",
      "Requirement already satisfied: kiwisolver>=1.0.1 in g:\\anaconda\\lib\\site-packages (from matplotlib<4,>=3.4.0->ipympl) (1.4.4)\n",
      "Requirement already satisfied: packaging>=20.0 in g:\\anaconda\\lib\\site-packages (from matplotlib<4,>=3.4.0->ipympl) (23.0)\n",
      "Requirement already satisfied: pyparsing>=2.3.1 in g:\\anaconda\\lib\\site-packages (from matplotlib<4,>=3.4.0->ipympl) (3.0.9)\n",
      "Requirement already satisfied: python-dateutil>=2.7 in g:\\anaconda\\lib\\site-packages (from matplotlib<4,>=3.4.0->ipympl) (2.8.2)\n",
      "Requirement already satisfied: comm>=0.1.1 in g:\\anaconda\\lib\\site-packages (from ipykernel>=4.5.1->ipywidgets<9,>=7.6.0->ipympl) (0.1.2)\n",
      "Requirement already satisfied: debugpy>=1.0 in g:\\anaconda\\lib\\site-packages (from ipykernel>=4.5.1->ipywidgets<9,>=7.6.0->ipympl) (1.6.7)\n",
      "Requirement already satisfied: jupyter-client>=6.1.12 in g:\\anaconda\\lib\\site-packages (from ipykernel>=4.5.1->ipywidgets<9,>=7.6.0->ipympl) (7.4.9)\n",
      "Requirement already satisfied: nest-asyncio in g:\\anaconda\\lib\\site-packages (from ipykernel>=4.5.1->ipywidgets<9,>=7.6.0->ipympl) (1.5.6)\n",
      "Requirement already satisfied: psutil in g:\\anaconda\\lib\\site-packages (from ipykernel>=4.5.1->ipywidgets<9,>=7.6.0->ipympl) (5.9.0)\n",
      "Requirement already satisfied: pyzmq>=17 in g:\\anaconda\\lib\\site-packages (from ipykernel>=4.5.1->ipywidgets<9,>=7.6.0->ipympl) (23.2.0)\n",
      "Requirement already satisfied: tornado>=6.1 in g:\\anaconda\\lib\\site-packages (from ipykernel>=4.5.1->ipywidgets<9,>=7.6.0->ipympl) (6.3.2)\n",
      "Requirement already satisfied: parso<0.9.0,>=0.8.0 in g:\\anaconda\\lib\\site-packages (from jedi>=0.16->ipython<9->ipympl) (0.8.3)\n",
      "Requirement already satisfied: wcwidth in g:\\anaconda\\lib\\site-packages (from prompt-toolkit!=3.0.37,<3.1.0,>=3.0.30->ipython<9->ipympl) (0.2.5)\n",
      "Requirement already satisfied: six>=1.5 in g:\\anaconda\\lib\\site-packages (from python-dateutil>=2.7->matplotlib<4,>=3.4.0->ipympl) (1.16.0)\n",
      "Requirement already satisfied: executing in g:\\anaconda\\lib\\site-packages (from stack-data->ipython<9->ipympl) (0.8.3)\n",
      "Requirement already satisfied: asttokens in g:\\anaconda\\lib\\site-packages (from stack-data->ipython<9->ipympl) (2.0.5)\n",
      "Requirement already satisfied: pure-eval in g:\\anaconda\\lib\\site-packages (from stack-data->ipython<9->ipympl) (0.2.2)\n",
      "Requirement already satisfied: entrypoints in g:\\anaconda\\lib\\site-packages (from jupyter-client>=6.1.12->ipykernel>=4.5.1->ipywidgets<9,>=7.6.0->ipympl) (0.4)\n",
      "Requirement already satisfied: jupyter-core>=4.9.2 in g:\\anaconda\\lib\\site-packages (from jupyter-client>=6.1.12->ipykernel>=4.5.1->ipywidgets<9,>=7.6.0->ipympl) (5.3.0)\n",
      "Requirement already satisfied: platformdirs>=2.5 in g:\\anaconda\\lib\\site-packages (from jupyter-core>=4.9.2->jupyter-client>=6.1.12->ipykernel>=4.5.1->ipywidgets<9,>=7.6.0->ipympl) (2.5.2)\n",
      "Requirement already satisfied: pywin32>=300 in g:\\anaconda\\lib\\site-packages (from jupyter-core>=4.9.2->jupyter-client>=6.1.12->ipykernel>=4.5.1->ipywidgets<9,>=7.6.0->ipympl) (305.1)\n",
      "Installing collected packages: ipympl\n",
      "Successfully installed ipympl-0.9.3\n",
      "Requirement already satisfied: numpy in g:\\anaconda\\lib\\site-packages (1.24.3)\n",
      "Requirement already satisfied: matplotlib in g:\\anaconda\\lib\\site-packages (3.7.1)\n",
      "Requirement already satisfied: contourpy>=1.0.1 in g:\\anaconda\\lib\\site-packages (from matplotlib) (1.0.5)\n",
      "Requirement already satisfied: cycler>=0.10 in g:\\anaconda\\lib\\site-packages (from matplotlib) (0.11.0)\n",
      "Requirement already satisfied: fonttools>=4.22.0 in g:\\anaconda\\lib\\site-packages (from matplotlib) (4.25.0)\n",
      "Requirement already satisfied: kiwisolver>=1.0.1 in g:\\anaconda\\lib\\site-packages (from matplotlib) (1.4.4)\n",
      "Requirement already satisfied: numpy>=1.20 in g:\\anaconda\\lib\\site-packages (from matplotlib) (1.24.3)\n",
      "Requirement already satisfied: packaging>=20.0 in g:\\anaconda\\lib\\site-packages (from matplotlib) (23.0)\n",
      "Requirement already satisfied: pillow>=6.2.0 in g:\\anaconda\\lib\\site-packages (from matplotlib) (9.4.0)\n",
      "Requirement already satisfied: pyparsing>=2.3.1 in g:\\anaconda\\lib\\site-packages (from matplotlib) (3.0.9)\n",
      "Requirement already satisfied: python-dateutil>=2.7 in g:\\anaconda\\lib\\site-packages (from matplotlib) (2.8.2)\n",
      "Requirement already satisfied: six>=1.5 in g:\\anaconda\\lib\\site-packages (from python-dateutil>=2.7->matplotlib) (1.16.0)\n"
     ]
    },
    {
     "name": "stderr",
     "output_type": "stream",
     "text": [
      "Matplotlib is building the font cache; this may take a moment.\n"
     ]
    }
   ],
   "source": [
    "# Install the required packages\n",
    "!pip install ipympl\n",
    "!pip install numpy\n",
    "!pip install matplotlib\n",
    "\n",
    "# Import the necessary libraries\n",
    "import numpy as np\n",
    "import matplotlib.pyplot as plt\n",
    "\n",
    "# Apply a custom style using './deeplearning.mplstyle'\n",
    "plt.style.use('./deeplearning.mplstyle')"
   ]
  },
  {
   "cell_type": "code",
   "execution_count": 2,
   "id": "5873cf16",
   "metadata": {},
   "outputs": [
    {
     "name": "stdout",
     "output_type": "stream",
     "text": [
      "x_train = [1. 2.]\n",
      "y_train = [300. 500.]\n"
     ]
    }
   ],
   "source": [
    "# Define the training data for x and y\n",
    "x_train = np.array([1.0, 2.0])\n",
    "y_train = np.array([300.0, 500.0])\n",
    "\n",
    "# Print the x_train and y_train arrays\n",
    "print(f\"x_train = {x_train}\")\n",
    "print(f\"y_train = {y_train}\")"
   ]
  },
  {
   "cell_type": "code",
   "execution_count": 3,
   "id": "d14987bb",
   "metadata": {},
   "outputs": [
    {
     "name": "stdout",
     "output_type": "stream",
     "text": [
      "x_train.shape: (2,)\n",
      "Number of training examples is: 2\n"
     ]
    }
   ],
   "source": [
    "# Print the shape of the x_train array\n",
    "print(f\"x_train.shape: {x_train.shape}\")\n",
    "\n",
    "# Calculate the number of training examples (m) by taking the first dimension of x_train\n",
    "m = x_train.shape[0]\n",
    "\n",
    "# Print the number of training examples\n",
    "print(f\"Number of training examples is: {m}\")"
   ]
  },
  {
   "cell_type": "code",
   "execution_count": 4,
   "id": "4ecac62c",
   "metadata": {},
   "outputs": [
    {
     "name": "stdout",
     "output_type": "stream",
     "text": [
      "Number of training examples is: 2\n"
     ]
    }
   ],
   "source": [
    "# Calculate the number of training examples (m) by using the len() function on x_train\n",
    "m = len(x_train)\n",
    "\n",
    "# Print the number of training examples\n",
    "print(f\"Number of training examples is: {m}\")"
   ]
  },
  {
   "cell_type": "code",
   "execution_count": null,
   "id": "cfe1a9a6",
   "metadata": {},
   "outputs": [],
   "source": []
  }
 ],
 "metadata": {
  "kernelspec": {
   "display_name": "Python 3 (ipykernel)",
   "language": "python",
   "name": "python3"
  },
  "language_info": {
   "codemirror_mode": {
    "name": "ipython",
    "version": 3
   },
   "file_extension": ".py",
   "mimetype": "text/x-python",
   "name": "python",
   "nbconvert_exporter": "python",
   "pygments_lexer": "ipython3",
   "version": "3.11.4"
  }
 },
 "nbformat": 4,
 "nbformat_minor": 5
}
